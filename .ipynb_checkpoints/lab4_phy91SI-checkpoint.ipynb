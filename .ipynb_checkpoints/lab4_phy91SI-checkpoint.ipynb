{
 "cells": [
  {
   "cell_type": "markdown",
   "metadata": {},
   "source": [
    "[course page](http://web.stanford.edu/class/physics91SI/cgi-­‐bin/?page_id=947)\n",
    "--[Lab 4 problem](http://www.stanford.edu/class/physics91si/2016/labs/lab04.pdf)"
   ]
  },
  {
   "cell_type": "markdown",
   "metadata": {},
   "source": [
    "# phi_converge"
   ]
  },
  {
   "cell_type": "code",
   "execution_count": 20,
   "metadata": {
    "collapsed": true
   },
   "outputs": [],
   "source": [
    "# run fib() cell first\n",
    "def phi_converge(file=''):\n",
    "    isConverged=False\n",
    "    n=4\n",
    "    while not isConverged:        \n",
    "        φ_p=float(fib(n-1))/fib(n-2)\n",
    "        φ_n=float(fib(n))/fib(n-1)\n",
    "        if φ_n == φ_p:\n",
    "            isConverged=True\n",
    "        n+=1\n",
    "    f=\"n=%d\\nφ_p=%.25f\\nφ_n=%.25f\\n\"        \n",
    "    if file=='':\n",
    "        print(f%(n,φ_p,φ_n))\n",
    "    else:\n",
    "        with open(file, 'a') as f:\n",
    "            import os            \n",
    "            if os.stat(file).st_size == 0:\n",
    "                print(\"n,φ_p,φ_n\",file=f)\n",
    "            print(n,φ_p,φ_n,sep=',',file=f)\n",
    "        \n",
    "    return"
   ]
  },
  {
   "cell_type": "code",
   "execution_count": 21,
   "metadata": {
    "collapsed": false
   },
   "outputs": [],
   "source": [
    "phi_converge(file='out.txt')"
   ]
  },
  {
   "cell_type": "markdown",
   "metadata": {},
   "source": [
    "# Lab 2 contd..."
   ]
  },
  {
   "cell_type": "code",
   "execution_count": 3,
   "metadata": {
    "collapsed": true
   },
   "outputs": [],
   "source": [
    "def fib(n):    \n",
    "    if n<1: \n",
    "        print(\"Invalid argument\")\n",
    "    elif n==1:\n",
    "        return 0\n",
    "    elif n==2:\n",
    "        return 1\n",
    "    \n",
    "    a,b = 0,1\n",
    "    \n",
    "    for i in range(2,n):\n",
    "        a,b=b,a+b\n",
    "    return b"
   ]
  },
  {
   "cell_type": "code",
   "execution_count": null,
   "metadata": {
    "collapsed": true
   },
   "outputs": [],
   "source": [
    "def phi_approx(n):\n",
    "    f_n=fib(n)\n",
    "    f_p=fib(n-1)\n",
    "    φ=f_n/f_p\n",
    "    print(n,f_n,f_p,\"%.4f\"%φ)    \n",
    "    return"
   ]
  },
  {
   "cell_type": "code",
   "execution_count": null,
   "metadata": {
    "collapsed": true
   },
   "outputs": [],
   "source": [
    "n=20"
   ]
  },
  {
   "cell_type": "code",
   "execution_count": null,
   "metadata": {
    "collapsed": false
   },
   "outputs": [],
   "source": [
    "for i in range(1,n+1):    \n",
    "    print(fib(i),end =' ')\n",
    "\n",
    "print()\n",
    "phi_approx(n)"
   ]
  },
  {
   "cell_type": "code",
   "execution_count": null,
   "metadata": {
    "collapsed": true
   },
   "outputs": [],
   "source": [
    "import random\n",
    "\n",
    "def Pi_Estimation(n):\n",
    "    inside=0\n",
    "    \n",
    "    for i in range(n):\n",
    "        x=random.random()\n",
    "        y=random.random()\n",
    "        if x**2+y**2 <= 1:\n",
    "            inside+=1\n",
    "    return inside*4.0/n"
   ]
  },
  {
   "cell_type": "code",
   "execution_count": null,
   "metadata": {
    "collapsed": false
   },
   "outputs": [],
   "source": [
    "#Test\n",
    "N=100000\n",
    "pi=Pi_Estimation(N)\n",
    "print(pi)"
   ]
  },
  {
   "cell_type": "code",
   "execution_count": null,
   "metadata": {
    "collapsed": true
   },
   "outputs": [],
   "source": [
    "Disclaimer: Solution neither verified nor approved by course instructors. Personal practice only."
   ]
  }
 ],
 "metadata": {
  "anaconda-cloud": {
   "summary": "Lab 2 Solution - Physics91SI"
  },
  "kernelspec": {
   "display_name": "Python [conda root]",
   "language": "python",
   "name": "conda-root-py"
  },
  "language_info": {
   "codemirror_mode": {
    "name": "ipython",
    "version": 3
   },
   "file_extension": ".py",
   "mimetype": "text/x-python",
   "name": "python",
   "nbconvert_exporter": "python",
   "pygments_lexer": "ipython3",
   "version": "3.5.2"
  }
 },
 "nbformat": 4,
 "nbformat_minor": 1
}

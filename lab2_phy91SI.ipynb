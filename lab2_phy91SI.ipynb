{
 "cells": [
  {
   "cell_type": "markdown",
   "metadata": {},
   "source": [
    "[course page](http://web.stanford.edu/class/physics91SI/cgi-­‐bin/?page_id=947)\n",
    "--[Lab 2 problem](http://www.stanford.edu/class/physics91si/2016/labs/lab02.pdf)"
   ]
  },
  {
   "cell_type": "code",
   "execution_count": 1,
   "metadata": {
    "collapsed": true
   },
   "outputs": [],
   "source": [
    "def fib(n):    \n",
    "    if n<1: \n",
    "        print(\"Invalid argument\")\n",
    "    elif n==1:\n",
    "        return 0\n",
    "    elif n==2:\n",
    "        return 1\n",
    "    \n",
    "    a,b = 0,1\n",
    "    \n",
    "    for i in range(2,n):\n",
    "        a,b=b,a+b\n",
    "    return b"
   ]
  },
  {
   "cell_type": "code",
   "execution_count": 2,
   "metadata": {
    "collapsed": true
   },
   "outputs": [],
   "source": [
    "def phi_approx(n):\n",
    "    f_n=fib(n)\n",
    "    f_p=fib(n-1)\n",
    "    φ=f_n/f_p\n",
    "    print(n,f_n,f_p,\"%.4f\"%φ)    \n",
    "    return"
   ]
  },
  {
   "cell_type": "code",
   "execution_count": 3,
   "metadata": {
    "collapsed": true
   },
   "outputs": [],
   "source": [
    "n=20"
   ]
  },
  {
   "cell_type": "code",
   "execution_count": 4,
   "metadata": {
    "collapsed": false
   },
   "outputs": [
    {
     "name": "stdout",
     "output_type": "stream",
     "text": [
      "0 1 1 2 3 5 8 13 21 34 55 89 144 233 377 610 987 1597 2584 4181 \n",
      "20 4181 2584 1.6180\n"
     ]
    }
   ],
   "source": [
    "for i in range(1,n+1):    \n",
    "    print(fib(i),end =' ')\n",
    "\n",
    "print()\n",
    "phi_approx(n)"
   ]
  },
  {
   "cell_type": "code",
   "execution_count": 5,
   "metadata": {
    "collapsed": true
   },
   "outputs": [],
   "source": [
    "import random\n",
    "\n",
    "def Pi_Estimation(n):\n",
    "    inside=0\n",
    "    \n",
    "    for i in range(n):\n",
    "        x=random.random()\n",
    "        y=random.random()\n",
    "        if x**2+y**2 <= 1:\n",
    "            inside+=1\n",
    "    return inside*4.0/n"
   ]
  },
  {
   "cell_type": "code",
   "execution_count": 6,
   "metadata": {
    "collapsed": false
   },
   "outputs": [
    {
     "name": "stdout",
     "output_type": "stream",
     "text": [
      "3.14396\n"
     ]
    }
   ],
   "source": [
    "#Test\n",
    "N=100000\n",
    "pi=Pi_Estimation(N)\n",
    "print(pi)"
   ]
  },
  {
   "cell_type": "code",
   "execution_count": null,
   "metadata": {
    "collapsed": true
   },
   "outputs": [],
   "source": [
    "Disclaimer: Solution neither verified nor approved by course instructors. Personal practice only."
   ]
  }
 ],
 "metadata": {
  "anaconda-cloud": {
   "summary": "Lab 2 Solution - Physics91SI"
  },
  "kernelspec": {
   "display_name": "Python [conda root]",
   "language": "python",
   "name": "conda-root-py"
  },
  "language_info": {
   "codemirror_mode": {
    "name": "ipython",
    "version": 3
   },
   "file_extension": ".py",
   "mimetype": "text/x-python",
   "name": "python",
   "nbconvert_exporter": "python",
   "pygments_lexer": "ipython3",
   "version": "3.5.2"
  }
 },
 "nbformat": 4,
 "nbformat_minor": 1
}

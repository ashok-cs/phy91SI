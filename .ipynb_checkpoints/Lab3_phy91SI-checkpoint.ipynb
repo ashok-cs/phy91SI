{
 "cells": [
  {
   "cell_type": "markdown",
   "metadata": {},
   "source": [
    "[course page](http://web.stanford.edu/class/physics91SI/cgi-­‐bin/?page_id=947)\n",
    "--[Lab 3 problem](http://www.stanford.edu/class/physics91si/2016/labs/lab03.pdf)"
   ]
  },
  {
   "cell_type": "markdown",
   "metadata": {},
   "source": [
    "Disclaimer: Solution neither verified nor approved by course instructors. Personal practice only."
   ]
  },
  {
   "cell_type": "code",
   "execution_count": 8,
   "metadata": {
    "collapsed": false
   },
   "outputs": [],
   "source": [
    "import re\n",
    "def parse_sample(text,words_only=False,sort_list=False):\n",
    "    text=re.sub('-',' ',text)\n",
    "    words=text.split()     \n",
    "    if words_only:\n",
    "        words=[re.sub('[,’`.&!\"“\\':;?()\\[\\]@+*^#$~{}_><]','',word.lower()) for word in words]\n",
    "    if sort_list:\n",
    "        words=sorted(words)\n",
    "    words=[word for word in words if word !='']\n",
    "    return words"
   ]
  },
  {
   "cell_type": "code",
   "execution_count": 3,
   "metadata": {
    "collapsed": false
   },
   "outputs": [],
   "source": [
    "#Test\n",
    "f=open(\"data/hamlet.txt\",\"r\")\n",
    "text=f.read()\n",
    "f.close()"
   ]
  },
  {
   "cell_type": "code",
   "execution_count": null,
   "metadata": {
    "collapsed": false
   },
   "outputs": [],
   "source": [
    "words=parse_sample(text,words_only=True,sort_list=True)\n",
    "print(words)"
   ]
  },
  {
   "cell_type": "code",
   "execution_count": 10,
   "metadata": {
    "collapsed": true
   },
   "outputs": [],
   "source": [
    "def count_freq(words):\n",
    "    c=[]\n",
    "    w=[]\n",
    "    for word in words:\n",
    "        if word not in w:\n",
    "            w.append(word)\n",
    "            c.append(words.count(word))    \n",
    "    return w,c"
   ]
  },
  {
   "cell_type": "code",
   "execution_count": null,
   "metadata": {
    "collapsed": false
   },
   "outputs": [],
   "source": [
    "w,c=count_freq(words)\n",
    "print(dict(zip(w,c)))"
   ]
  },
  {
   "cell_type": "code",
   "execution_count": 11,
   "metadata": {
    "collapsed": true
   },
   "outputs": [],
   "source": [
    "import numpy as np\n",
    "def mean(lst):\n",
    "    \"\"\"Return the arithmetic mean of a list of numbers.\"\"\"\n",
    "    return np.mean(lst)\n",
    "\n",
    "def stdev(lst):\n",
    "    \"\"\"Return the standard deviation of a list of numbers.\"\"\"\n",
    "    return np.std(lst)\n",
    "\n",
    "def median(lst):\n",
    "    \"\"\"Return the median of a list of numbers.\"\"\"\n",
    "    return np.median(lst)"
   ]
  },
  {
   "cell_type": "code",
   "execution_count": 14,
   "metadata": {
    "collapsed": false
   },
   "outputs": [
    {
     "name": "stdout",
     "output_type": "stream",
     "text": [
      "6.88264215477\n",
      "38.3729325411\n",
      "1.0\n"
     ]
    }
   ],
   "source": [
    "print(mean(c))\n",
    "print(stdev(c))\n",
    "print(median(c))"
   ]
  },
  {
   "cell_type": "code",
   "execution_count": null,
   "metadata": {
    "collapsed": true
   },
   "outputs": [],
   "source": []
  }
 ],
 "metadata": {
  "anaconda-cloud": {},
  "kernelspec": {
   "display_name": "Python [conda root]",
   "language": "python",
   "name": "conda-root-py"
  },
  "language_info": {
   "codemirror_mode": {
    "name": "ipython",
    "version": 3
   },
   "file_extension": ".py",
   "mimetype": "text/x-python",
   "name": "python",
   "nbconvert_exporter": "python",
   "pygments_lexer": "ipython3",
   "version": "3.5.2"
  }
 },
 "nbformat": 4,
 "nbformat_minor": 1
}
